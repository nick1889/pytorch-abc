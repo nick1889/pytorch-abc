{
 "cells": [
  {
   "cell_type": "code",
   "execution_count": 11,
   "metadata": {},
   "outputs": [],
   "source": [
    "import torch\n",
    "import torch.utils.data as Data"
   ]
  },
  {
   "cell_type": "code",
   "execution_count": 12,
   "metadata": {},
   "outputs": [],
   "source": [
    "BATCH_SIZE = 5"
   ]
  },
  {
   "cell_type": "code",
   "execution_count": 13,
   "metadata": {},
   "outputs": [],
   "source": [
    "x = torch.linspace(1,10,10)\n",
    "y = torch.linspace(10,1,10)"
   ]
  },
  {
   "cell_type": "code",
   "execution_count": 14,
   "metadata": {},
   "outputs": [],
   "source": [
    "torch_dataset = Data.TensorDataset(x,y)"
   ]
  },
  {
   "cell_type": "code",
   "execution_count": 15,
   "metadata": {},
   "outputs": [],
   "source": [
    "loader = Data.DataLoader(\n",
    "    dataset=torch_dataset,\n",
    "    batch_size=BATCH_SIZE,\n",
    "    shuffle=True,\n",
    "    num_workers=2, # multiprocess\n",
    ")"
   ]
  },
  {
   "cell_type": "code",
   "execution_count": 16,
   "metadata": {},
   "outputs": [
    {
     "name": "stdout",
     "output_type": "stream",
     "text": [
      "Epoch: 0 |Step: 0 |batch x: [7. 5. 9. 8. 6.] |batch y: [4. 6. 2. 3. 5.]\n",
      "Epoch: 0 |Step: 1 |batch x: [ 1.  3. 10.  4.  2.] |batch y: [10.  8.  1.  7.  9.]\n",
      "Epoch: 1 |Step: 0 |batch x: [4. 3. 9. 5. 8.] |batch y: [7. 8. 2. 6. 3.]\n",
      "Epoch: 1 |Step: 1 |batch x: [ 1.  7.  2.  6. 10.] |batch y: [10.  4.  9.  5.  1.]\n",
      "Epoch: 2 |Step: 0 |batch x: [ 2.  1.  3.  8. 10.] |batch y: [ 9. 10.  8.  3.  1.]\n",
      "Epoch: 2 |Step: 1 |batch x: [7. 9. 4. 5. 6.] |batch y: [4. 2. 7. 6. 5.]\n"
     ]
    }
   ],
   "source": [
    "for epoch in range(3):\n",
    "    for step,(batch_x,batch_y) in enumerate(loader):\n",
    "        print('Epoch:',epoch,'|Step:',step,'|batch x:',\n",
    "             batch_x.numpy(),'|batch y:',batch_y.numpy())"
   ]
  },
  {
   "cell_type": "code",
   "execution_count": 19,
   "metadata": {},
   "outputs": [],
   "source": [
    "loader = Data.DataLoader(\n",
    "    dataset=torch_dataset,\n",
    "    batch_size=BATCH_SIZE,\n",
    "    shuffle=False,\n",
    "    num_workers=2, # multiprocess\n",
    ")\n",
    "BATCH_SIZE = 8"
   ]
  },
  {
   "cell_type": "code",
   "execution_count": 20,
   "metadata": {},
   "outputs": [
    {
     "name": "stdout",
     "output_type": "stream",
     "text": [
      "Epoch: 0 |Step: 0 |batch x: [1. 2. 3. 4. 5. 6. 7. 8.] |batch y: [10.  9.  8.  7.  6.  5.  4.  3.]\n",
      "Epoch: 0 |Step: 1 |batch x: [ 9. 10.] |batch y: [2. 1.]\n",
      "Epoch: 1 |Step: 0 |batch x: [1. 2. 3. 4. 5. 6. 7. 8.] |batch y: [10.  9.  8.  7.  6.  5.  4.  3.]\n",
      "Epoch: 1 |Step: 1 |batch x: [ 9. 10.] |batch y: [2. 1.]\n",
      "Epoch: 2 |Step: 0 |batch x: [1. 2. 3. 4. 5. 6. 7. 8.] |batch y: [10.  9.  8.  7.  6.  5.  4.  3.]\n",
      "Epoch: 2 |Step: 1 |batch x: [ 9. 10.] |batch y: [2. 1.]\n"
     ]
    }
   ],
   "source": [
    "for epoch in range(3):\n",
    "    for step,(batch_x,batch_y) in enumerate(loader):\n",
    "        print('Epoch:',epoch,'|Step:',step,'|batch x:',\n",
    "             batch_x.numpy(),'|batch y:',batch_y.numpy())"
   ]
  }
 ],
 "metadata": {
  "kernelspec": {
   "display_name": "Python 3",
   "language": "python",
   "name": "python3"
  },
  "language_info": {
   "codemirror_mode": {
    "name": "ipython",
    "version": 3
   },
   "file_extension": ".py",
   "mimetype": "text/x-python",
   "name": "python",
   "nbconvert_exporter": "python",
   "pygments_lexer": "ipython3",
   "version": "3.7.3"
  }
 },
 "nbformat": 4,
 "nbformat_minor": 2
}
